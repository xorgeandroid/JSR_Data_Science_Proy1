{
 "cells": [
  {
   "cell_type": "markdown",
   "metadata": {
    "id": "fR3jvxoWv9WN"
   },
   "source": [
    "# **Bootcamp Ciencia de Datos e Inteligencia Artificial**\n",
    "# **Proyecto Módulo 1. Python para Ciencia de Datos**\n",
    "\n"
   ]
  },
  {
   "cell_type": "markdown",
   "metadata": {
    "id": "MHW9subLIsg5"
   },
   "source": [
    "## Introducción \n",
    "\n",
    "Has aprendido lo más elemental en tu camino para convertirte en un científico de datos y estás preparado para afrontar una de las actividades más comunes del trabajo cotidiano de un _data scientist_; es decir, revisar y analizar información solicitada por algún cliente.  \n",
    "\n",
    "Este proyecto representa un desafío que tomará algo de tiempo, de manera que necesitarás mucha concentración y persistencia; sin embargo, eres completamente capaz de resolverlo. Así, en cuestión de semanas notarás la facilidad con que realizas este tipo de actividades."
   ]
  },
  {
   "cell_type": "markdown",
   "metadata": {
    "id": "PRIEEm01JYpW"
   },
   "source": [
    "## Demo\n",
    "\n",
    "Este documento te servirá como inspiración para crear el tuyo: https://drive.google.com/file/d/1HH_aauW-84bnoBcooZtT7hRN4bFT5uB8/view?usp=sharing "
   ]
  },
  {
   "cell_type": "markdown",
   "metadata": {
    "id": "ozrD68J_KHMc"
   },
   "source": [
    "## ¿Qué construirás?\n",
    "\n",
    "Un documento de Google Colaboratory que funja como introducción a las actividades más comunes de tu labor cotidiana. Considera que este trabajo se convertirá en una guía para los módulos siguientes, dado que practicarás las habilidades básicas necesarias para implementar un modelo."
   ]
  },
  {
   "cell_type": "markdown",
   "metadata": {
    "id": "ax8X7ytUKsrg"
   },
   "source": [
    "## Objetivos\n",
    "\n",
    "El participante:\n",
    "\n",
    "- Se familiarizará con la estructura del lenguaje **Python** enfocada en la ciencia de datos.\n",
    "- Comprenderá que cada proyecto solicitado poseerá distintas características (gráficos de un cierto tipo o diseño, algunos datos estadísticos, entre otros).\n",
    "- Entenderá que algunos datos se interpretan mejor al utilizar determinadas herramientas, tales como **Pandas**, **Numpy** y **Matplotlib**.\n",
    "- Asimilará la manera de estructurar la información que requiera analizar."
   ]
  },
  {
   "cell_type": "markdown",
   "metadata": {
    "id": "TI8jx-y3Exg1"
   },
   "source": [
    "## Requisitos\n",
    "\n",
    "- El proyecto se entregará en forma individual.\n",
    "- Cada participante deberá completar el archivo de **Google Colab** ubicado en su **Google Drive** personal. Al finalizar, compartirá el enlace en el espacio designado en **Teams**. "
   ]
  },
  {
   "cell_type": "markdown",
   "metadata": {
    "id": "R_kZ2D4v0u9X"
   },
   "source": [
    "## Entregables\n",
    "\n",
    "Cada participante hará una copia del presente documento y la guardará en su **Google Drive** personal.\n",
    "\n",
    "Leerá cada una de las preguntas y responderá utilizando bloques de código (a excepción de la pregunta 7, que podrá responderse con un bloque de texto). \n",
    "\n",
    "Los resultados deberán ser inteligibles y se recomienda utilizar funciones como `print` para dar claridad a las respuestas.\n",
    "\n",
    "Es posible investigar soluciones en otras fuentes o recurrir a clases anteriores; sin embargo, el estudiante debe comprender lo escrito en código.\n",
    "\n",
    "Algunas respuestas tienen diversas formas de resolverse, no obstante, debe existir precisión en el código escrito y en el propósito que persigue.\n",
    "\n",
    "¡Comencemos!\n"
   ]
  },
  {
   "cell_type": "code",
   "execution_count": 1,
   "metadata": {
    "colab": {
     "base_uri": "https://localhost:8080/",
     "height": 328
    },
    "id": "Q7DD3TsR6l6I",
    "outputId": "74318426-0d91-4683-f6e2-6ef56c4f8b72"
   },
   "outputs": [],
   "source": [
    "#from google.colab import drive\n",
    "#drive.mount('/content/drive')"
   ]
  },
  {
   "cell_type": "code",
   "execution_count": 2,
   "metadata": {
    "id": "LjNwIEwZN8nP"
   },
   "outputs": [],
   "source": [
    "import pandas as pd\n",
    "import numpy as np\n",
    "import matplotlib.pyplot as plt #No quitar"
   ]
  },
  {
   "cell_type": "markdown",
   "metadata": {
    "id": "IksPNalDSH7R"
   },
   "source": [
    "### Pregunta 1\n",
    "Descarga los siguientes archivos:\n",
    "- Este archivo csv enlista diferentes celulares y una serie de calificaciones de distintos usuarios: https://drive.google.com/file/d/1atasE-fuDyAt8Z7JGZQroKJwjNkbpyrn/view?usp=sharing \n",
    "- Este documento csv incluye un listado de las marcas de dichos teléfonos celulares: https://drive.google.com/file/d/1ICBvPkSVajVVMHyrMABYiwuwefv_3oPJ/view?usp=sharing\n",
    "\n",
    "Sube estos archivos en un **Google Drive** y con `pd.read_csv` nómbralos como `df_modelos` y `df_marcas`.\n",
    "\n",
    "Indica en un solo código el número de filas que tiene el archivo `df_modelos` que creaste.\n",
    "\n"
   ]
  },
  {
   "cell_type": "code",
   "execution_count": 3,
   "metadata": {
    "colab": {
     "base_uri": "https://localhost:8080/",
     "height": 183
    },
    "id": "YKDZypl2ujhX",
    "outputId": "a2331fb1-b184-4a94-fb6d-ac9ba1d75f6f"
   },
   "outputs": [],
   "source": [
    "import pandas as pd\n",
    "import numpy as np\n",
    "import matplotlib.pyplot as plt #No quitar"
   ]
  },
  {
   "cell_type": "code",
   "execution_count": 4,
   "metadata": {
    "id": "I4iNlf32F1LE"
   },
   "outputs": [],
   "source": [
    "df_marcas = pd.read_csv(r\"C:\\Users\\jorge\\Desktop\\Documentos de trabajo\\Proyectos ciencia de datos\\Bootcamp_Ciencia de datos\\Proyecto 1\\Marcas.csv\",encoding='cp1252')\n",
    "df_modelos = pd.read_csv(r\"C:\\Users\\jorge\\Desktop\\Documentos de trabajo\\Proyectos ciencia de datos\\Bootcamp_Ciencia de datos\\Proyecto 1\\Modelos.csv\",encoding='cp1252')"
   ]
  },
  {
   "cell_type": "markdown",
   "metadata": {
    "id": "cfoZq-nr2OkO"
   },
   "source": [
    "### Pregunta 2\n",
    "Haz un `merge` de ambos **data frames**, para generar un nuevo **data frame** que incluya los datos de `df_modelos` y `df_marcas`. Tu nuevo **data frame** recibirá el nombre de `df`.\n",
    "\n",
    "**Pista**: Ambos archivos tienen una columna que los relaciona, llamada `ID Marca`."
   ]
  },
  {
   "cell_type": "markdown",
   "source": [],
   "metadata": {
    "collapsed": false
   }
  },
  {
   "cell_type": "code",
   "execution_count": 5,
   "metadata": {
    "scrolled": true
   },
   "outputs": [
    {
     "data": {
      "text/plain": "   ID Marca                           Modelo  RAM_GB  ROM_GB  Calificaciones  \\\n0        10      Redmi 8 (Onyx Black, 64 GB)       4      64          674638   \n1         9  Realme 5i (Forest Green, 64 GB)       4      64          243106   \n2         9     Realme 5i (Aqua Blue, 64 GB)       4      64          243106   \n3        10   Redmi 8 (Sapphire Blue, 64 GB)       4      32          674638   \n4         8  POCO X2 (Matrix Purple, 128 GB)       6      64          133486   \n\n   ReseÂ–as  Estrellas  Precio de lista  Precio de venta  \n0     50064        4.4            10999             9999  \n1     16497        4.5            10999            10999  \n2     16497        4.5            10999            10999  \n3     50064        4.4            10999             9999  \n4     14732        4.5            19999            18499  ",
      "text/html": "<div>\n<style scoped>\n    .dataframe tbody tr th:only-of-type {\n        vertical-align: middle;\n    }\n\n    .dataframe tbody tr th {\n        vertical-align: top;\n    }\n\n    .dataframe thead th {\n        text-align: right;\n    }\n</style>\n<table border=\"1\" class=\"dataframe\">\n  <thead>\n    <tr style=\"text-align: right;\">\n      <th></th>\n      <th>ID Marca</th>\n      <th>Modelo</th>\n      <th>RAM_GB</th>\n      <th>ROM_GB</th>\n      <th>Calificaciones</th>\n      <th>ReseÂ–as</th>\n      <th>Estrellas</th>\n      <th>Precio de lista</th>\n      <th>Precio de venta</th>\n    </tr>\n  </thead>\n  <tbody>\n    <tr>\n      <th>0</th>\n      <td>10</td>\n      <td>Redmi 8 (Onyx Black, 64 GB)</td>\n      <td>4</td>\n      <td>64</td>\n      <td>674638</td>\n      <td>50064</td>\n      <td>4.4</td>\n      <td>10999</td>\n      <td>9999</td>\n    </tr>\n    <tr>\n      <th>1</th>\n      <td>9</td>\n      <td>Realme 5i (Forest Green, 64 GB)</td>\n      <td>4</td>\n      <td>64</td>\n      <td>243106</td>\n      <td>16497</td>\n      <td>4.5</td>\n      <td>10999</td>\n      <td>10999</td>\n    </tr>\n    <tr>\n      <th>2</th>\n      <td>9</td>\n      <td>Realme 5i (Aqua Blue, 64 GB)</td>\n      <td>4</td>\n      <td>64</td>\n      <td>243106</td>\n      <td>16497</td>\n      <td>4.5</td>\n      <td>10999</td>\n      <td>10999</td>\n    </tr>\n    <tr>\n      <th>3</th>\n      <td>10</td>\n      <td>Redmi 8 (Sapphire Blue, 64 GB)</td>\n      <td>4</td>\n      <td>32</td>\n      <td>674638</td>\n      <td>50064</td>\n      <td>4.4</td>\n      <td>10999</td>\n      <td>9999</td>\n    </tr>\n    <tr>\n      <th>4</th>\n      <td>8</td>\n      <td>POCO X2 (Matrix Purple, 128 GB)</td>\n      <td>6</td>\n      <td>64</td>\n      <td>133486</td>\n      <td>14732</td>\n      <td>4.5</td>\n      <td>19999</td>\n      <td>18499</td>\n    </tr>\n  </tbody>\n</table>\n</div>"
     },
     "execution_count": 5,
     "metadata": {},
     "output_type": "execute_result"
    }
   ],
   "source": [
    "df_modelos.head()"
   ]
  },
  {
   "cell_type": "code",
   "execution_count": 6,
   "metadata": {
    "id": "S1L6Hn8VF2_v"
   },
   "outputs": [
    {
     "data": {
      "text/plain": "   ID Marca Nombre Marca\n0         1        Apple\n1         2       I Kall\n2         3      Infinix\n3         4         Lava\n4         5     Motorola",
      "text/html": "<div>\n<style scoped>\n    .dataframe tbody tr th:only-of-type {\n        vertical-align: middle;\n    }\n\n    .dataframe tbody tr th {\n        vertical-align: top;\n    }\n\n    .dataframe thead th {\n        text-align: right;\n    }\n</style>\n<table border=\"1\" class=\"dataframe\">\n  <thead>\n    <tr style=\"text-align: right;\">\n      <th></th>\n      <th>ID Marca</th>\n      <th>Nombre Marca</th>\n    </tr>\n  </thead>\n  <tbody>\n    <tr>\n      <th>0</th>\n      <td>1</td>\n      <td>Apple</td>\n    </tr>\n    <tr>\n      <th>1</th>\n      <td>2</td>\n      <td>I Kall</td>\n    </tr>\n    <tr>\n      <th>2</th>\n      <td>3</td>\n      <td>Infinix</td>\n    </tr>\n    <tr>\n      <th>3</th>\n      <td>4</td>\n      <td>Lava</td>\n    </tr>\n    <tr>\n      <th>4</th>\n      <td>5</td>\n      <td>Motorola</td>\n    </tr>\n  </tbody>\n</table>\n</div>"
     },
     "execution_count": 6,
     "metadata": {},
     "output_type": "execute_result"
    }
   ],
   "source": [
    "df_marcas.head()"
   ]
  },
  {
   "cell_type": "code",
   "execution_count": 7,
   "metadata": {},
   "outputs": [],
   "source": [
    "df = pd.merge(df_modelos, df_marcas, on='ID Marca')"
   ]
  },
  {
   "cell_type": "markdown",
   "metadata": {
    "id": "AqDaTcfaTC79"
   },
   "source": [
    "### Pregunta 3\n",
    "Muestra las primeras cinco filas, las últimas cinco y el nombre de todas las columnas."
   ]
  },
  {
   "cell_type": "code",
   "execution_count": 8,
   "metadata": {
    "id": "AYPcw8cLF361"
   },
   "outputs": [
    {
     "name": "stdout",
     "output_type": "stream",
     "text": [
      "   ID Marca                           Modelo  RAM_GB  ROM_GB  Calificaciones  \\\n",
      "0        10      Redmi 8 (Onyx Black, 64 GB)       4      64          674638   \n",
      "1         9  Realme 5i (Forest Green, 64 GB)       4      64          243106   \n",
      "2         9     Realme 5i (Aqua Blue, 64 GB)       4      64          243106   \n",
      "3        10   Redmi 8 (Sapphire Blue, 64 GB)       4      32          674638   \n",
      "4         8  POCO X2 (Matrix Purple, 128 GB)       6      64          133486   \n",
      "\n",
      "   ReseÂ–as  Estrellas  Precio de lista  Precio de venta  \n",
      "0     50064        4.4            10999             9999  \n",
      "1     16497        4.5            10999            10999  \n",
      "2     16497        4.5            10999            10999  \n",
      "3     50064        4.4            10999             9999  \n",
      "4     14732        4.5            19999            18499  \n",
      "     ID Marca                                   Modelo  RAM_GB  ROM_GB  \\\n",
      "115         4                             Lava 34 Plus      32      32   \n",
      "116         9            Realme 6 (Comet Blue, 128 GB)       6     128   \n",
      "117         9  Realme 6 Pro (Lightning Orange, 128 GB)       8     128   \n",
      "118         2                           I Kall K14 New      32      64   \n",
      "119         1           Apple iPhone XR (White, 64 GB)       0      64   \n",
      "\n",
      "     Calificaciones  ReseÂ–as  Estrellas  Precio de lista  Precio de venta  \n",
      "115             361        34        4.1             1699             1699  \n",
      "116           30622      3002        4.4            16999            16999  \n",
      "117           14361      1671        4.4            19999            19999  \n",
      "118            7229       822        3.4              609              609  \n",
      "119           11572       975        4.6            52500            46999  \n",
      "Index(['ID Marca', 'Modelo', 'RAM_GB', 'ROM_GB', 'Calificaciones', 'ReseÂ–as',\n",
      "       'Estrellas', 'Precio de lista', 'Precio de venta'],\n",
      "      dtype='object')\n"
     ]
    }
   ],
   "source": [
    "print(df_modelos.head())\n",
    "print(df_modelos.tail())\n",
    "print(df_modelos.columns)\n"
   ]
  },
  {
   "cell_type": "markdown",
   "metadata": {
    "id": "m2HobjRsTz7V"
   },
   "source": [
    "### Pregunta 4\n",
    "Utiliza los filtros para mostrar todos los teléfonos con 64GB en la columna `ROM_GB` e indica cuántos del listado poseen esta característica."
   ]
  },
  {
   "cell_type": "code",
   "execution_count": 9,
   "metadata": {
    "id": "-yfgYqiZF4yS"
   },
   "outputs": [
    {
     "name": "stdout",
     "output_type": "stream",
     "text": [
      "Cantidad de teléfonos con 64GB:  62\n"
     ]
    }
   ],
   "source": [
    "cel_64gb = df.loc[df['ROM_GB'] == 64]\n",
    "print(\"Cantidad de teléfonos con 64GB: \", len(cel_64gb))"
   ]
  },
  {
   "cell_type": "markdown",
   "metadata": {
    "id": "tfXR1-kf_WQd"
   },
   "source": [
    "### Pregunta 5\n",
    "Haz un histograma (`hist`) de la columna `ROM_GB` del **data frame** `df`.\n",
    "\n",
    "El gráfico debe incluir un título y las columnas tener un color personalizado."
   ]
  },
  {
   "cell_type": "code",
   "execution_count": 10,
   "metadata": {
    "id": "Dfk9NBLQGGb3"
   },
   "outputs": [
    {
     "data": {
      "text/plain": "<Figure size 640x480 with 1 Axes>",
      "image/png": "[encoded data removed]"
     },
     "metadata": {},
     "output_type": "display_data"
    }
   ],
   "source": [
    "plt.hist(df[\"ROM_GB\"], color = \"green\")\n",
    "plt.title(\"Histograma de la columna ROM_GB\")\n",
    "plt.xlabel(\"Capacidad de almacenamiento (GB)\")\n",
    "plt.ylabel(\"Frecuencia\")\n",
    "plt.show()"
   ]
  },
  {
   "cell_type": "markdown",
   "metadata": {
    "id": "U8QOkYQnBCDY"
   },
   "source": [
    "### Pregunta 6\n",
    "Haz un diagrama de dispersión (`scatter`) con las siguientes características: el eje X deberá indicar el contenido de la columna `Precio de lista`, mientras que el eje Y expresará el contenido de la columna `Precio de venta`.\n",
    "\n",
    "El diagrama debe incluir un título y los puntos tener un color personalizado."
   ]
  },
  {
   "cell_type": "code",
   "execution_count": 11,
   "metadata": {
    "id": "ttIgS7LAGHDm"
   },
   "outputs": [
    {
     "data": {
      "text/plain": "<Figure size 640x480 with 1 Axes>",
      "image/png": "[encoded data removed]"
     },
     "metadata": {},
     "output_type": "display_data"
    }
   ],
   "source": [
    "plt.scatter(df[\"Precio de lista\"], df[\"Precio de venta\"], color=\"green\")\n",
    "plt.title(\"Diagrama de Dispersión: Precio de Lista vs Precio de Venta\")\n",
    "plt.xlabel(\"Precio de Lista\")\n",
    "plt.ylabel(\"Precio de Venta\")\n",
    "plt.show()"
   ]
  },
  {
   "cell_type": "markdown",
   "metadata": {
    "id": "qWHZAMi2DZos"
   },
   "source": [
    "### Pregunta 7\n",
    "\n",
    "Con base en el diagrama de la **pregunta 6**, responde la siguiente pregunta: ¿A qué conclusión podrías llegar si observas únicamente la gráfica?"
   ]
  },
  {
   "cell_type": "markdown",
   "metadata": {
    "id": "Aql08i4fGIxs"
   },
   "source": [
    "Se requiere un poco mayor de revisión de la información, sin embargo, se podría inferir que existe una correlación positiva entre el precio de lista y el precio de venta. Es decir, el valor de Y (precio de venta) se incrementa en medida de que el valor de x (precio de lista) aumenta. Aunque no es una inferencia completa, se podría distinguir que la concentración de los diferentes celulares, se centra entre los +- $8,000 y $22,000."
   ]
  },
  {
   "cell_type": "markdown",
   "metadata": {
    "id": "3H4LtqjhEGME"
   },
   "source": [
    "### Pregunta 8\n",
    "Utiliza el código para obtener la siguiente información (ubicada en `df`).\n",
    "\n",
    "- Promedio de los precios de venta de los modelos marca **Realme**\n",
    "- Máximo de estrellas de los modelos marca **Redmi**\n",
    "- Mínimo de Estrellas de los modelos marca **Redmi**"
   ]
  },
  {
   "cell_type": "code",
   "execution_count": 12,
   "metadata": {
    "id": "8AApDz1dGKQr"
   },
   "outputs": [
    {
     "name": "stdout",
     "output_type": "stream",
     "text": [
      "Promedio de los precios de venta de los modelos de la marca Realme: 12423.24\n",
      "Máximo de estrellas de los modelos de la marca Redmi: 4.4\n",
      "Mínimo de estrellas de los modelos de la marca Redmi: 4.2\n"
     ]
    }
   ],
   "source": [
    "# Promedio de los precios de venta\n",
    "modelo_Realme = df[df[\"Nombre Marca\"] == \"Realme\"]\n",
    "precio_promedio_Realme = round(modelo_Realme[\"Precio de venta\"].mean(),2)\n",
    "print(\"Promedio de los precios de venta de los modelos de la marca Realme:\", precio_promedio_Realme)\n",
    "\n",
    "# Máximo de estrellas de los modelo Readmi\n",
    "modelo_Redmi = df[df[\"Nombre Marca\"] == \"Redmi\"]\n",
    "max_estrellas = modelo_Redmi[\"Estrellas\"].max()\n",
    "print(\"Máximo de estrellas de los modelos de la marca Redmi:\", max_estrellas)\n",
    "\n",
    "# Calcula el mínimo de estrellas de los modelos Redmi\n",
    "modelo_Redmi = df[df[\"Nombre Marca\"] == \"Redmi\"]\n",
    "min_estrellas = modelo_Redmi[\"Estrellas\"].min()\n",
    "print(\"Mínimo de estrellas de los modelos de la marca Redmi:\", min_estrellas)"
   ]
  },
  {
   "cell_type": "markdown",
   "metadata": {
    "id": "ds4EGI0SHEKB"
   },
   "source": [
    "### Pregunta 9\n",
    "Utiliza un **Groupby** para mostrar la cantidad de estrellas promedio que cada marca tiene en `df`."
   ]
  },
  {
   "cell_type": "code",
   "execution_count": 13,
   "metadata": {
    "id": "U_iMhR_gGLBV"
   },
   "outputs": [
    {
     "data": {
      "text/plain": "Nombre Marca\nApple       4.55\nI Kall      2.98\nInfinix     4.39\nLava        4.10\nMotorola    4.40\nNokia       4.30\nOppo        4.32\nPoco        4.50\nRealme      4.48\nRedmi       4.34\nTecno       4.27\nVivo        4.38\nName: Estrellas, dtype: float64"
     },
     "execution_count": 13,
     "metadata": {},
     "output_type": "execute_result"
    }
   ],
   "source": [
    "round(df.groupby('Nombre Marca')['Estrellas'].mean(),2)\n",
    "#df.groupby(\"Nombre Marca\")[\"Estrellas\"].agg(\"mean\").round(2)"
   ]
  },
  {
   "cell_type": "markdown",
   "metadata": {
    "id": "ALRDH3eRHkZN"
   },
   "source": [
    "### Pregunta 10\n",
    "¿Qué otro dato puedes obtener de `df` y cómo lo extraerías?"
   ]
  },
  {
   "cell_type": "code",
   "execution_count": 14,
   "outputs": [
    {
     "data": {
      "text/plain": "       ID Marca  RAM_GB  ROM_GB  Calificaciones  ReseÂ–as  Estrellas  \\\ncount    120.00  120.00  120.00          120.00    120.00     120.00   \nmean       7.17    4.36   65.23        57315.42   4767.25       4.26   \nstd        3.60    4.13   33.78       136188.05  10853.88       0.46   \nmin        1.00    0.00    4.00           53.00      3.00       2.80   \n25%        3.00    3.00   32.00         5365.00    394.00       4.30   \n50%        9.00    4.00   64.00        15700.50   1232.00       4.40   \n75%        9.00    4.50   64.00        42288.50   3002.00       4.50   \nmax       12.00   32.00  128.00       805006.00  66292.00       4.60   \n\n       Precio de lista  Precio de venta  \ncount           120.00           120.00  \nmean          16277.38         14686.79  \nstd           11525.59         10591.81  \nmin             609.00           609.00  \n25%            9990.00          8302.25  \n50%           12994.50         10999.00  \n75%           18990.00         16999.00  \nmax           57800.00         52999.00  ",
      "text/html": "<div>\n<style scoped>\n    .dataframe tbody tr th:only-of-type {\n        vertical-align: middle;\n    }\n\n    .dataframe tbody tr th {\n        vertical-align: top;\n    }\n\n    .dataframe thead th {\n        text-align: right;\n    }\n</style>\n<table border=\"1\" class=\"dataframe\">\n  <thead>\n    <tr style=\"text-align: right;\">\n      <th></th>\n      <th>ID Marca</th>\n      <th>RAM_GB</th>\n      <th>ROM_GB</th>\n      <th>Calificaciones</th>\n      <th>ReseÂ–as</th>\n      <th>Estrellas</th>\n      <th>Precio de lista</th>\n      <th>Precio de venta</th>\n    </tr>\n  </thead>\n  <tbody>\n    <tr>\n      <th>count</th>\n      <td>120.00</td>\n      <td>120.00</td>\n      <td>120.00</td>\n      <td>120.00</td>\n      <td>120.00</td>\n      <td>120.00</td>\n      <td>120.00</td>\n      <td>120.00</td>\n    </tr>\n    <tr>\n      <th>mean</th>\n      <td>7.17</td>\n      <td>4.36</td>\n      <td>65.23</td>\n      <td>57315.42</td>\n      <td>4767.25</td>\n      <td>4.26</td>\n      <td>16277.38</td>\n      <td>14686.79</td>\n    </tr>\n    <tr>\n      <th>std</th>\n      <td>3.60</td>\n      <td>4.13</td>\n      <td>33.78</td>\n      <td>136188.05</td>\n      <td>10853.88</td>\n      <td>0.46</td>\n      <td>11525.59</td>\n      <td>10591.81</td>\n    </tr>\n    <tr>\n      <th>min</th>\n      <td>1.00</td>\n      <td>0.00</td>\n      <td>4.00</td>\n      <td>53.00</td>\n      <td>3.00</td>\n      <td>2.80</td>\n      <td>609.00</td>\n      <td>609.00</td>\n    </tr>\n    <tr>\n      <th>25%</th>\n      <td>3.00</td>\n      <td>3.00</td>\n      <td>32.00</td>\n      <td>5365.00</td>\n      <td>394.00</td>\n      <td>4.30</td>\n      <td>9990.00</td>\n      <td>8302.25</td>\n    </tr>\n    <tr>\n      <th>50%</th>\n      <td>9.00</td>\n      <td>4.00</td>\n      <td>64.00</td>\n      <td>15700.50</td>\n      <td>1232.00</td>\n      <td>4.40</td>\n      <td>12994.50</td>\n      <td>10999.00</td>\n    </tr>\n    <tr>\n      <th>75%</th>\n      <td>9.00</td>\n      <td>4.50</td>\n      <td>64.00</td>\n      <td>42288.50</td>\n      <td>3002.00</td>\n      <td>4.50</td>\n      <td>18990.00</td>\n      <td>16999.00</td>\n    </tr>\n    <tr>\n      <th>max</th>\n      <td>12.00</td>\n      <td>32.00</td>\n      <td>128.00</td>\n      <td>805006.00</td>\n      <td>66292.00</td>\n      <td>4.60</td>\n      <td>57800.00</td>\n      <td>52999.00</td>\n    </tr>\n  </tbody>\n</table>\n</div>"
     },
     "execution_count": 14,
     "metadata": {},
     "output_type": "execute_result"
    }
   ],
   "source": [
    "# se podrían obtener los estadísticos descriptivos.\n",
    "df.describe().round(2)"
   ],
   "metadata": {
    "collapsed": false
   }
  },
  {
   "cell_type": "markdown",
   "source": [
    "### Análisis adicional 2\n",
    "Obtener el precio mínimo y máximo del precio de venta."
   ],
   "metadata": {
    "collapsed": false
   }
  },
  {
   "cell_type": "code",
   "execution_count": 15,
   "outputs": [
    {
     "name": "stdout",
     "output_type": "stream",
     "text": [
      "Precio mínimo: 609 y precio máximo: 52999\n"
     ]
    }
   ],
   "source": [
    "print(\"Precio mínimo: {} y precio máximo: {}\".format(df['Precio de venta'].min(),df['Precio de venta'].max()))"
   ],
   "metadata": {
    "collapsed": false
   }
  },
  {
   "cell_type": "markdown",
   "source": [
    "### Análisis adicional 3\n",
    "Obtener la marca que menos unidades y más unidades tiene."
   ],
   "metadata": {
    "collapsed": false
   }
  },
  {
   "cell_type": "code",
   "execution_count": 16,
   "outputs": [
    {
     "name": "stdout",
     "output_type": "stream",
     "text": [
      "La marca con menos conteo es: Nokia. La marca con más conteo es: Realme\n"
     ]
    }
   ],
   "source": [
    "print(\"La marca con menos conteo es: {}. La marca con más conteo es: {}\".format(df['Nombre Marca'].value_counts().idxmin(), df['Nombre Marca'].value_counts().idxmax()))\n",
    "# Duda, por qué esta forma, también me da el mismo resultado si no he definido variables\n",
    "#print(\"La marca menos vendida: {}. La marca más vendida es: {}\".format(marca_menos_vendida,marca_mas_vendida))"
   ],
   "metadata": {
    "collapsed": false
   }
  },
  {
   "cell_type": "markdown",
   "source": [
    "### Análisis adicional 4\n",
    "Obtener el promedio del precio de venta por marca y cantidad de unidades y la diferencia entre precio de venta y lista."
   ],
   "metadata": {
    "collapsed": false
   }
  },
  {
   "cell_type": "code",
   "execution_count": 17,
   "outputs": [
    {
     "name": "stdout",
     "output_type": "stream",
     "text": [
      "              Precio de venta  Unidades Totales\n",
      "Nombre Marca                                   \n",
      "Apple                44726.27                11\n",
      "I Kall                6322.85                13\n",
      "Infinix               9936.50                 8\n",
      "Lava                  1699.00                 1\n",
      "Motorola              9499.00                 3\n",
      "Nokia                 1299.00                 1\n",
      "Oppo                 12990.00                16\n",
      "Poco                 18699.00                 5\n",
      "Realme               12423.24                33\n",
      "Redmi                12410.30                10\n",
      "Tecno                10999.00                 3\n",
      "Vivo                 13052.50                16\n"
     ]
    }
   ],
   "source": [
    "tabla = df.groupby('Nombre Marca')[['Precio de venta']].mean().round(2).join(df.groupby('Nombre Marca')[['Nombre Marca']].count())\n",
    "tabla = tabla.rename(columns={'Nombre Marca': 'Unidades Totales'})\n",
    "print(tabla)"
   ],
   "metadata": {
    "collapsed": false
   }
  },
  {
   "cell_type": "code",
   "execution_count": 18,
   "outputs": [
    {
     "name": "stdout",
     "output_type": "stream",
     "text": [
      "              Precio de venta  Precio de lista  Diferencia\n",
      "Nombre Marca                                              \n",
      "Apple                44726.27         48500.00     3773.73\n",
      "I Kall                6322.85          6507.46      184.61\n",
      "Infinix               9936.50         11874.00     1937.50\n",
      "Lava                  1699.00          1699.00        0.00\n",
      "Motorola              9499.00          9999.00      500.00\n",
      "Nokia                 1299.00          1299.00        0.00\n",
      "Oppo                 12990.00         16302.50     3312.50\n",
      "Poco                 18699.00         20199.00     1500.00\n",
      "Realme               12423.24         13089.91      666.67\n",
      "Redmi                12410.30         13056.20      645.90\n",
      "Tecno                10999.00         12332.33     1333.33\n",
      "Vivo                 13052.50         15365.00     2312.50\n"
     ]
    }
   ],
   "source": [
    "tabla = df.groupby('Nombre Marca')[['Precio de venta','Precio de lista']].mean().round(2)\n",
    "tabla['Diferencia'] = tabla['Precio de lista'] - tabla['Precio de venta']\n",
    "print(tabla)"
   ],
   "metadata": {
    "collapsed": false
   }
  }
 ],
 "metadata": {
  "colab": {
   "provenance": []
  },
  "kernelspec": {
   "display_name": "Python 3 (ipykernel)",
   "language": "python",
   "name": "python3"
  },
  "language_info": {
   "codemirror_mode": {
    "name": "ipython",
    "version": 3
   },
   "file_extension": ".py",
   "mimetype": "text/x-python",
   "name": "python",
   "nbconvert_exporter": "python",
   "pygments_lexer": "ipython3",
   "version": "3.9.13"
  },
  "vscode": {
   "interpreter": {
    "hash": "9da6cc33780894ff2185a164a2a119d335f9d52f75fdaf747e4ff3d3ca36c7c1"
   }
  }
 },
 "nbformat": 4,
 "nbformat_minor": 1
}
